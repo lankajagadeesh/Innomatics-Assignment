{
 "cells": [
  {
   "cell_type": "markdown",
   "id": "59e4742a",
   "metadata": {},
   "source": [
    "# Python Maths "
   ]
  },
  {
   "cell_type": "markdown",
   "id": "2cbc8e3a",
   "metadata": {},
   "source": [
    "## 1)Polar Coordinates "
   ]
  },
  {
   "cell_type": "code",
   "execution_count": 1,
   "id": "b8c44f57",
   "metadata": {},
   "outputs": [
    {
     "name": "stdout",
     "output_type": "stream",
     "text": [
      " 1+2j\n",
      "2.23606797749979\n",
      "1.1071487177940904\n"
     ]
    }
   ],
   "source": [
    "import cmath\n",
    "input_str = input()\n",
    "try:\n",
    "    z = complex(input_str)\n",
    "except ValueError:\n",
    "    print(\"Invalid input format\")\n",
    "    exit(1)\n",
    "        \n",
    "print(abs(z))\n",
    "arg_z = cmath.phase(z)\n",
    "print(arg_z)\n"
   ]
  },
  {
   "cell_type": "markdown",
   "id": "4a9967a6",
   "metadata": {},
   "source": [
    "## 2)Find Angle MBC "
   ]
  },
  {
   "cell_type": "code",
   "execution_count": 2,
   "id": "5144a6b9",
   "metadata": {},
   "outputs": [
    {
     "name": "stdout",
     "output_type": "stream",
     "text": [
      "10\n",
      "10\n",
      "45°\n"
     ]
    }
   ],
   "source": [
    "import math\n",
    "\n",
    "a = int(input())\n",
    "b = int(input())\n",
    "\n",
    "print(f'{math.degrees(math.atan(a / b)):1.0f}\\xb0')\n"
   ]
  },
  {
   "cell_type": "markdown",
   "id": "22d137ac",
   "metadata": {},
   "source": [
    "## 3)Triangle Quest 2 "
   ]
  },
  {
   "cell_type": "code",
   "execution_count": 3,
   "id": "f1bde5ee",
   "metadata": {},
   "outputs": [
    {
     "name": "stdout",
     "output_type": "stream",
     "text": [
      "5\n",
      "1\n",
      "121\n",
      "12321\n",
      "1234321\n",
      "123454321\n"
     ]
    }
   ],
   "source": [
    "\n",
    "for i in range(1, int(input())+1):\n",
    "    print((10**i//9)**2)\n"
   ]
  },
  {
   "cell_type": "markdown",
   "id": "65af91d9",
   "metadata": {},
   "source": [
    "## 4)Mod Divmod "
   ]
  },
  {
   "cell_type": "code",
   "execution_count": 4,
   "id": "98e14b98",
   "metadata": {},
   "outputs": [
    {
     "name": "stdout",
     "output_type": "stream",
     "text": [
      "177\n",
      "10\n",
      "17\n",
      "7\n",
      "(17, 7)\n"
     ]
    }
   ],
   "source": [
    "a = int(input())\n",
    "b = int(input())\n",
    "\n",
    "print(a // b)\n",
    "print(a % b)\n",
    "print (divmod(a, b))"
   ]
  },
  {
   "cell_type": "markdown",
   "id": "2ca0af74",
   "metadata": {},
   "source": [
    "## 5)Power - Mod Power"
   ]
  },
  {
   "cell_type": "code",
   "execution_count": 1,
   "id": "373939c8",
   "metadata": {},
   "outputs": [
    {
     "name": "stdout",
     "output_type": "stream",
     "text": [
      "3\n",
      "4\n",
      "5\n",
      "81\n",
      "1\n"
     ]
    }
   ],
   "source": [
    "a=int(input())\n",
    "b=int(input())\n",
    "m=int(input())\n",
    "print(pow(a,b))\n",
    "print(pow(a,b,m))\n"
   ]
  },
  {
   "cell_type": "markdown",
   "id": "87c84055",
   "metadata": {},
   "source": [
    "## 6)Integers Come In All Sizes "
   ]
  },
  {
   "cell_type": "code",
   "execution_count": 2,
   "id": "95b51307",
   "metadata": {},
   "outputs": [
    {
     "name": "stdout",
     "output_type": "stream",
     "text": [
      "9\n",
      "29\n",
      "7\n",
      "27\n",
      "4710194409608608369201743232\n"
     ]
    }
   ],
   "source": [
    "a, b, c, d = (int (input()) for _ in range(4))\n",
    "print(pow(a, b) + pow(c, d))\n"
   ]
  },
  {
   "cell_type": "markdown",
   "id": "c5d11a35",
   "metadata": {},
   "source": [
    "## 7)Triangle Quest "
   ]
  },
  {
   "cell_type": "code",
   "execution_count": 3,
   "id": "3922ee5b",
   "metadata": {},
   "outputs": [
    {
     "name": "stdout",
     "output_type": "stream",
     "text": [
      "5\n",
      "1\n",
      "22\n",
      "333\n",
      "4444\n"
     ]
    }
   ],
   "source": [
    "for i in range(1,int(input())): #More than 2 lines will result in 0 score. Do not leave a blank line also\n",
    "    print((pow(10,i)//9)*i)\n"
   ]
  },
  {
   "cell_type": "code",
   "execution_count": null,
   "id": "0c9182d4",
   "metadata": {},
   "outputs": [],
   "source": []
  }
 ],
 "metadata": {
  "kernelspec": {
   "display_name": "Python 3 (ipykernel)",
   "language": "python",
   "name": "python3"
  },
  "language_info": {
   "codemirror_mode": {
    "name": "ipython",
    "version": 3
   },
   "file_extension": ".py",
   "mimetype": "text/x-python",
   "name": "python",
   "nbconvert_exporter": "python",
   "pygments_lexer": "ipython3",
   "version": "3.9.13"
  }
 },
 "nbformat": 4,
 "nbformat_minor": 5
}
