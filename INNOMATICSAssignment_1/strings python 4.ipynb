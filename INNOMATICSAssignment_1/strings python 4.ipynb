{
 "cells": [
  {
   "cell_type": "markdown",
   "id": "92028eff",
   "metadata": {},
   "source": [
    "# Basic Python - Strings"
   ]
  },
  {
   "cell_type": "markdown",
   "id": "166b4a05",
   "metadata": {},
   "source": [
    "## 1)sWAP cASE "
   ]
  },
  {
   "cell_type": "code",
   "execution_count": 1,
   "id": "9261699f",
   "metadata": {},
   "outputs": [
    {
     "name": "stdout",
     "output_type": "stream",
     "text": [
      "HackerRank.com presents \"Pythonist 2\".\n",
      "hACKERrANK.COM PRESENTS \"pYTHONIST 2\".\n"
     ]
    }
   ],
   "source": [
    "def swap_case(s):\n",
    "    newTxt = \"\"\n",
    "    for i in range(len(s)):\n",
    "        if( s[i] == s[i].upper()):\n",
    "            newTxt += (s[i].lower())\n",
    "        else:\n",
    "            newTxt += (s[i].upper())\n",
    "    return newTxt\n",
    "if __name__ == '__main__':\n",
    "    s = input()\n",
    "    result = swap_case(s)\n",
    "    print(result)"
   ]
  },
  {
   "cell_type": "markdown",
   "id": "d8860f63",
   "metadata": {},
   "source": [
    "## 2)String Split and Join "
   ]
  },
  {
   "cell_type": "code",
   "execution_count": 2,
   "id": "3111720f",
   "metadata": {},
   "outputs": [
    {
     "name": "stdout",
     "output_type": "stream",
     "text": [
      "this is a string   \n",
      "this-is-a-string-\n"
     ]
    }
   ],
   "source": [
    "import re\n",
    "def split_and_join(line):\n",
    "    # write your code here\n",
    "    \n",
    "        \n",
    "    line = re.sub(r\"[^\\w\\s]\", '', line)\n",
    "    line = re.sub(r\"\\s+\", '-', line)\n",
    "    return line\n",
    "if __name__ == '__main__':\n",
    "    line = input()\n",
    "    result = split_and_join(line)\n",
    "    print(result)"
   ]
  },
  {
   "cell_type": "markdown",
   "id": "b019d261",
   "metadata": {},
   "source": [
    "## 3)What's Your Name? "
   ]
  },
  {
   "cell_type": "code",
   "execution_count": 3,
   "id": "9a14d2be",
   "metadata": {},
   "outputs": [
    {
     "name": "stdout",
     "output_type": "stream",
     "text": [
      "Ross\n",
      "Taylor\n",
      "Hello Ross Taylor! You just delved into python.\n"
     ]
    }
   ],
   "source": [
    "def print_full_name(first_name,last_name) :\n",
    "    print(\"Hello\",first_name,last_name+\"! You just delved into python.\")\n",
    "if __name__ == '__main__':\n",
    "    first_name = input()\n",
    "    last_name = input()\n",
    "    print_full_name(first_name, last_name)"
   ]
  },
  {
   "cell_type": "markdown",
   "id": "70469b72",
   "metadata": {},
   "source": [
    "## 4)Mutations "
   ]
  },
  {
   "cell_type": "code",
   "execution_count": 5,
   "id": "80b6d7a8",
   "metadata": {},
   "outputs": [
    {
     "name": "stdout",
     "output_type": "stream",
     "text": [
      "abracadabra \n",
      "5 k  \n",
      "abrackdabra \n"
     ]
    }
   ],
   "source": [
    "def mutate_string(string, position, character):\n",
    "    return \"\".join([character if position==i else x for i,x in enumerate(string)])\n",
    "if __name__ == '__main__':\n",
    "    s = input()\n",
    "    i, c = input().split()\n",
    "    s_new = mutate_string(s, int(i), c)\n",
    "    print(s_new)"
   ]
  },
  {
   "cell_type": "markdown",
   "id": "fc6a0ee1",
   "metadata": {},
   "source": [
    "## 5)Find a string "
   ]
  },
  {
   "cell_type": "code",
   "execution_count": 6,
   "id": "58dbff38",
   "metadata": {},
   "outputs": [
    {
     "name": "stdout",
     "output_type": "stream",
     "text": [
      "ABCDCDC\n",
      "CDC\n",
      "2\n"
     ]
    }
   ],
   "source": [
    "def count_substring(string, sub_string):\n",
    "    n = 0\n",
    "    for i in range(len(string)):\n",
    "        if string[i: i+len(sub_string)] == sub_string:\n",
    "            n+= 1\n",
    "    return n\n",
    "if __name__ == '__main__':\n",
    "    string = input().strip()\n",
    "    sub_string = input().strip()\n",
    "    \n",
    "    count = count_substring(string, sub_string)\n",
    "    print(count)"
   ]
  },
  {
   "cell_type": "markdown",
   "id": "c8d0246f",
   "metadata": {},
   "source": [
    "## 6)String Validators "
   ]
  },
  {
   "cell_type": "code",
   "execution_count": 8,
   "id": "45d91234",
   "metadata": {},
   "outputs": [
    {
     "name": "stdout",
     "output_type": "stream",
     "text": [
      "qA2\n",
      "True\n",
      "True\n",
      "True\n",
      "True\n",
      "True\n"
     ]
    }
   ],
   "source": [
    "s = input()\n",
    "results = {\n",
    "'isalnum': False,\n",
    "'isalpha': False,\n",
    "'isdigit': False,\n",
    "'islower': False,\n",
    "'isupper': False\n",
    "}\n",
    "for c in s:\n",
    "    for key  in results:\n",
    "        func = getattr(c, key)\n",
    "        result = func()\n",
    "        if not results[key] and result:\n",
    "            results[key] = True\n",
    "for value in results.values():\n",
    "    print(value)\n"
   ]
  },
  {
   "cell_type": "markdown",
   "id": "af7af5e0",
   "metadata": {},
   "source": [
    "## 7)Text Alignment "
   ]
  },
  {
   "cell_type": "code",
   "execution_count": 12,
   "id": "1d6c6a49",
   "metadata": {},
   "outputs": [
    {
     "name": "stdout",
     "output_type": "stream",
     "text": [
      "5\n",
      "    H    \n",
      "   HHH   \n",
      "  HHHHH  \n",
      " HHHHHHH \n",
      "HHHHHHHHH\n",
      "  HHHHH               HHHHH             \n",
      "  HHHHH               HHHHH             \n",
      "  HHHHH               HHHHH             \n",
      "  HHHHH               HHHHH             \n",
      "  HHHHH               HHHHH             \n",
      "  HHHHH               HHHHH             \n",
      "  HHHHHHHHHHHHHHHHHHHHHHHHH  \n",
      "  HHHHHHHHHHHHHHHHHHHHHHHHH  \n",
      "  HHHHHHHHHHHHHHHHHHHHHHHHH  \n",
      "  HHHHH               HHHHH             \n",
      "  HHHHH               HHHHH             \n",
      "  HHHHH               HHHHH             \n",
      "  HHHHH               HHHHH             \n",
      "  HHHHH               HHHHH             \n",
      "  HHHHH               HHHHH             \n",
      "                    HHHHHHHHH\n",
      "                     HHHHHHH \n",
      "                      HHHHH  \n",
      "                       HHH   \n",
      "                        H    \n",
      "\n"
     ]
    }
   ],
   "source": [
    "if __name__ == '__main__':\n",
    "    n = int(input())\n",
    "    s = ''\n",
    "    \n",
    "# Top cone\n",
    "\n",
    "for i in range(1,n*2,2):\n",
    "    s = s + (i * 'H').center(n * 2 - 1 , \" \") + '\\n'\n",
    "    \n",
    "# Top Square\n",
    "\n",
    "s1 = (n * 'H').center(n * 2 - 1 , \" \") + (n * 2 + 1) * \" \"\n",
    "\n",
    "for i in range(n + 1):\n",
    "    s = s + (2 * s1) + '\\n'\n",
    "\n",
    "# Middle line\n",
    "\n",
    "s2 = (n * 5 * 'H').center(n * 6 - 1 , \" \")\n",
    "\n",
    "for i in range(0 , n , 2):\n",
    "    s = s + s2 + '\\n'\n",
    "\n",
    "# Bottom square\n",
    "\n",
    "s3 = (n * 'H').center(n * 2 - 1 , \" \") + (n * 2 + 1) * \" \"\n",
    "\n",
    "for i in range(n + 1):\n",
    "    s = s + (2 * s3) + '\\n'\n",
    "\n",
    "# Bottom cone\n",
    "\n",
    "for i in range(n * 2 - 1 , 0 , -2):\n",
    "    s = s + (n * 4) * ' ' + (i * 'H').center(n * 2 - 1) + '\\n'\n",
    "\n",
    "print(s)"
   ]
  },
  {
   "cell_type": "markdown",
   "id": "f01ea514",
   "metadata": {},
   "source": [
    "## 8) Text Wrap"
   ]
  },
  {
   "cell_type": "code",
   "execution_count": 15,
   "id": "d10b6e15",
   "metadata": {},
   "outputs": [
    {
     "name": "stdout",
     "output_type": "stream",
     "text": [
      "ABCDEFGHIJKLIMNOQRSTUVWXYZ\n",
      "4\n",
      "None\n"
     ]
    }
   ],
   "source": [
    "import textwrap\n",
    "\n",
    "def wrap(string, max_width):\n",
    "    return\n",
    "\n",
    "if __name__ == '__main__':\n",
    "    string, max_width = input(), int(input())\n",
    "    result = wrap(string, max_width)\n",
    "    print(result)"
   ]
  },
  {
   "cell_type": "markdown",
   "id": "922bfd37",
   "metadata": {},
   "source": [
    "## 9)Designer Door Mat "
   ]
  },
  {
   "cell_type": "code",
   "execution_count": 16,
   "id": "618ebc90",
   "metadata": {},
   "outputs": [
    {
     "name": "stdout",
     "output_type": "stream",
     "text": [
      "9 27\n",
      "------------.|.------------\n",
      "---------.|..|..|.---------\n",
      "------.|..|..|..|..|.------\n",
      "---.|..|..|..|..|..|..|.---\n",
      "----------WELCOME----------\n",
      "---.|..|..|..|..|..|..|.---\n",
      "------.|..|..|..|..|.------\n",
      "---------.|..|..|.---------\n",
      "------------.|.------------\n"
     ]
    }
   ],
   "source": [
    "n, m = map(int,input().split())\n",
    "for i in range(n//2):\n",
    "    j = int((2*i)+1)\n",
    "    print(('.|.'*j).center(m, '-'))\n",
    "print('WELCOME'.center(m,'-'))\n",
    "for i in reversed(range(n//2)):\n",
    "    j = int((2*i)+1)\n",
    "    print(('.|.'*j).center(m, '-'))\n"
   ]
  },
  {
   "cell_type": "markdown",
   "id": "0968e02c",
   "metadata": {},
   "source": [
    "## 10)String Formatting "
   ]
  },
  {
   "cell_type": "code",
   "execution_count": 17,
   "id": "7658751f",
   "metadata": {},
   "outputs": [
    {
     "name": "stdout",
     "output_type": "stream",
     "text": [
      "17\n",
      "    1     1     1     1 \n",
      "    2     2     2    10 \n",
      "    3     3     3    11 \n",
      "    4     4     4   100 \n",
      "    5     5     5   101 \n",
      "    6     6     6   110 \n",
      "    7     7     7   111 \n",
      "    8    10     8  1000 \n",
      "    9    11     9  1001 \n",
      "   10    12     A  1010 \n",
      "   11    13     B  1011 \n",
      "   12    14     C  1100 \n",
      "   13    15     D  1101 \n",
      "   14    16     E  1110 \n",
      "   15    17     F  1111 \n",
      "   16    20    10 10000 \n",
      "   17    21    11 10001 \n"
     ]
    }
   ],
   "source": [
    "def print_formatted(number):\n",
    "    # your code goes here\n",
    "    # String Formatting in Python - HackerRank Solution START\n",
    "    l1 = len(bin(number)[2:])\n",
    "   \n",
    "    for i in range(1,number+1):\n",
    "        print(str(i).rjust(l1,' '),end=\" \")\n",
    "        print(oct(i)[2:].rjust(l1,' '),end=\" \")\n",
    "        print(((hex(i)[2:]).upper()).rjust(l1,' '),end=\" \")\n",
    "        print(bin(i)[2:].rjust(l1,' '),end=\" \")\n",
    "        print(\"\")\n",
    "    # String Formatting in Python - HackerRank Solution END\n",
    "\n",
    "\n",
    "\n",
    "if __name__ == '__main__':\n",
    "    n = int(input())\n",
    "    print_formatted(n)"
   ]
  },
  {
   "cell_type": "markdown",
   "id": "55a5bb60",
   "metadata": {},
   "source": [
    "## 11)Alphabet Rangoli "
   ]
  },
  {
   "cell_type": "code",
   "execution_count": 18,
   "id": "dafb52a7",
   "metadata": {},
   "outputs": [
    {
     "name": "stdout",
     "output_type": "stream",
     "text": [
      "5\n",
      "--------e--------\n",
      "------e-d-e------\n",
      "----e-d-c-d-e----\n",
      "--e-d-c-b-c-d-e--\n",
      "e-d-c-b-a-b-c-d-e\n",
      "--e-d-c-b-c-d-e--\n",
      "----e-d-c-d-e----\n",
      "------e-d-e------\n",
      "--------e--------\n"
     ]
    }
   ],
   "source": [
    "def print_rangoli(size):\n",
    "    # your code goes here\n",
    "    # Alphabet Rangoli in Python - HackerRank Solution START\n",
    "    width  = size*4-3\n",
    "    string = ''\n",
    "\n",
    "    for i in range(1,size+1):\n",
    "        for j in range(0,i):\n",
    "            string += chr(96+size-j)\n",
    "            if len(string) < width :\n",
    "                string += '-'\n",
    "        for k in range(i-1,0,-1):    \n",
    "            string += chr(97+size-k)\n",
    "            if len(string) < width :\n",
    "                string += '-'\n",
    "        print(string.center(width,'-'))\n",
    "        string = ''\n",
    "\n",
    "    for i in range(size-1,0,-1):\n",
    "        string = ''\n",
    "        for j in range(0,i):\n",
    "            string += chr(96+size-j)\n",
    "            if len(string) < width :\n",
    "                string += '-'\n",
    "        for k in range(i-1,0,-1):\n",
    "            string += chr(97+size-k)\n",
    "            if len(string) < width :\n",
    "                string += '-'\n",
    "        print(string.center(width,'-'))\n",
    "        \n",
    "    # Alphabet Rangoli in Python - HackerRank Solution END\n",
    "\n",
    "if __name__ == '__main__':\n",
    "    n = int(input())\n",
    "    print_rangoli(n)"
   ]
  },
  {
   "cell_type": "markdown",
   "id": "4b987bdd",
   "metadata": {},
   "source": [
    "## 12)Capitalize! "
   ]
  },
  {
   "cell_type": "code",
   "execution_count": 28,
   "id": "dfc051da",
   "metadata": {},
   "outputs": [
    {
     "ename": "KeyError",
     "evalue": "'OUTPUT_PATH'",
     "output_type": "error",
     "traceback": [
      "\u001b[1;31m---------------------------------------------------------------------------\u001b[0m",
      "\u001b[1;31mKeyError\u001b[0m                                  Traceback (most recent call last)",
      "\u001b[1;32m~\\AppData\\Local\\Temp\\ipykernel_2104\\4071696573.py\u001b[0m in \u001b[0;36m<module>\u001b[1;34m\u001b[0m\n\u001b[0;32m     17\u001b[0m \u001b[1;33m\u001b[0m\u001b[0m\n\u001b[0;32m     18\u001b[0m \u001b[1;32mif\u001b[0m \u001b[0m__name__\u001b[0m \u001b[1;33m==\u001b[0m \u001b[1;34m'__main__'\u001b[0m\u001b[1;33m:\u001b[0m\u001b[1;33m\u001b[0m\u001b[1;33m\u001b[0m\u001b[0m\n\u001b[1;32m---> 19\u001b[1;33m     \u001b[0mfptr\u001b[0m \u001b[1;33m=\u001b[0m \u001b[0mopen\u001b[0m\u001b[1;33m(\u001b[0m\u001b[0mos\u001b[0m\u001b[1;33m.\u001b[0m\u001b[0menviron\u001b[0m\u001b[1;33m[\u001b[0m\u001b[1;34m'OUTPUT_PATH'\u001b[0m\u001b[1;33m]\u001b[0m\u001b[1;33m,\u001b[0m \u001b[1;34m'w'\u001b[0m\u001b[1;33m)\u001b[0m\u001b[1;33m\u001b[0m\u001b[1;33m\u001b[0m\u001b[0m\n\u001b[0m\u001b[0;32m     20\u001b[0m \u001b[1;33m\u001b[0m\u001b[0m\n\u001b[0;32m     21\u001b[0m     \u001b[0ms\u001b[0m \u001b[1;33m=\u001b[0m \u001b[0minput\u001b[0m\u001b[1;33m(\u001b[0m\u001b[1;33m)\u001b[0m\u001b[1;33m\u001b[0m\u001b[1;33m\u001b[0m\u001b[0m\n",
      "\u001b[1;32mC:\\ProgramData\\Anaconda3\\lib\\os.py\u001b[0m in \u001b[0;36m__getitem__\u001b[1;34m(self, key)\u001b[0m\n\u001b[0;32m    677\u001b[0m         \u001b[1;32mexcept\u001b[0m \u001b[0mKeyError\u001b[0m\u001b[1;33m:\u001b[0m\u001b[1;33m\u001b[0m\u001b[1;33m\u001b[0m\u001b[0m\n\u001b[0;32m    678\u001b[0m             \u001b[1;31m# raise KeyError with the original key value\u001b[0m\u001b[1;33m\u001b[0m\u001b[1;33m\u001b[0m\u001b[0m\n\u001b[1;32m--> 679\u001b[1;33m             \u001b[1;32mraise\u001b[0m \u001b[0mKeyError\u001b[0m\u001b[1;33m(\u001b[0m\u001b[0mkey\u001b[0m\u001b[1;33m)\u001b[0m \u001b[1;32mfrom\u001b[0m \u001b[1;32mNone\u001b[0m\u001b[1;33m\u001b[0m\u001b[1;33m\u001b[0m\u001b[0m\n\u001b[0m\u001b[0;32m    680\u001b[0m         \u001b[1;32mreturn\u001b[0m \u001b[0mself\u001b[0m\u001b[1;33m.\u001b[0m\u001b[0mdecodevalue\u001b[0m\u001b[1;33m(\u001b[0m\u001b[0mvalue\u001b[0m\u001b[1;33m)\u001b[0m\u001b[1;33m\u001b[0m\u001b[1;33m\u001b[0m\u001b[0m\n\u001b[0;32m    681\u001b[0m \u001b[1;33m\u001b[0m\u001b[0m\n",
      "\u001b[1;31mKeyError\u001b[0m: 'OUTPUT_PATH'"
     ]
    }
   ],
   "source": [
    "#!/bin/python3\n",
    "\n",
    "import math\n",
    "import os\n",
    "import random\n",
    "import re\n",
    "import sys\n",
    "\n",
    "# Complete the solve function below.\n",
    "def solve(s):\n",
    "    words = s.split(' ')\n",
    "    result = []\n",
    "    for i in words:\n",
    "        result.append(i.capitalize())\n",
    "    s = ' '.join(result)\n",
    "    return(s)\n",
    "\n",
    "if __name__ == '__main__':\n",
    "    fptr = open(os.environ['OUTPUT_PATH'], 'w')\n",
    "\n",
    "    s = input()\n",
    "\n",
    "    result = solve(s)\n",
    "\n",
    "    fptr.write(result + '\\n')\n",
    "\n",
    "    fptr.close()\n"
   ]
  },
  {
   "cell_type": "markdown",
   "id": "651aaf3f",
   "metadata": {},
   "source": [
    "## 13)The Minion Game "
   ]
  },
  {
   "cell_type": "code",
   "execution_count": 29,
   "id": "4f55d316",
   "metadata": {},
   "outputs": [
    {
     "name": "stdout",
     "output_type": "stream",
     "text": [
      "BANANA\n",
      "Stuart 12\n"
     ]
    }
   ],
   "source": [
    "def minion_game(string):\n",
    "    kevin, stuart = 0, 0\n",
    "    vowels = 'AEIOU'\n",
    "    n = len(string)\n",
    "    for i, c in enumerate(string):\n",
    "        if vowels.find(c) != -1:\n",
    "            kevin += n - i\n",
    "        else:\n",
    "            stuart += n - i\n",
    "    if kevin - stuart != 0:\n",
    "        print(f'Kevin {kevin}' if kevin > stuart else f'Stuart {stuart}')\n",
    "    else:\n",
    "        print('Draw')\n",
    "\n",
    "if __name__ == '__main__':\n",
    "    s = input()\n",
    "    minion_game(s)"
   ]
  },
  {
   "cell_type": "markdown",
   "id": "60d188b1",
   "metadata": {},
   "source": [
    "## 14)Merge the Tools! "
   ]
  },
  {
   "cell_type": "code",
   "execution_count": 33,
   "id": "f47976a3",
   "metadata": {},
   "outputs": [
    {
     "name": "stdout",
     "output_type": "stream",
     "text": [
      "AABCAAADA\n",
      "3\n",
      "AB\n",
      "CA\n",
      "AD\n"
     ]
    }
   ],
   "source": [
    "def merge_the_tools(string, k):\n",
    "    ns=''\n",
    "    for i,char in enumerate(string,1):\n",
    "        if char not in ns:\n",
    "            ns=''.join((ns,char))\n",
    "        if i%k==0:\n",
    "            print(ns)\n",
    "            ns=''\n",
    "if __name__ == '__main__':\n",
    "    string, k = input(), int(input())\n",
    "    merge_the_tools(string, k)\n",
    "    "
   ]
  },
  {
   "cell_type": "code",
   "execution_count": null,
   "id": "b6e3854e",
   "metadata": {},
   "outputs": [],
   "source": []
  }
 ],
 "metadata": {
  "kernelspec": {
   "display_name": "Python 3 (ipykernel)",
   "language": "python",
   "name": "python3"
  },
  "language_info": {
   "codemirror_mode": {
    "name": "ipython",
    "version": 3
   },
   "file_extension": ".py",
   "mimetype": "text/x-python",
   "name": "python",
   "nbconvert_exporter": "python",
   "pygments_lexer": "ipython3",
   "version": "3.9.13"
  }
 },
 "nbformat": 4,
 "nbformat_minor": 5
}
