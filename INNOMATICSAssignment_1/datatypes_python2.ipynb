{
 "cells": [
  {
   "cell_type": "markdown",
   "id": "48620805",
   "metadata": {},
   "source": [
    "# Data Types"
   ]
  },
  {
   "cell_type": "markdown",
   "id": "9632fb48",
   "metadata": {},
   "source": [
    "## 1)Introduction to Sets"
   ]
  },
  {
   "cell_type": "code",
   "execution_count": 1,
   "id": "dc404c15",
   "metadata": {},
   "outputs": [
    {
     "name": "stdout",
     "output_type": "stream",
     "text": [
      "10\n",
      "161 182 161 154 176 170 167 171 170 174\n",
      "169.375\n"
     ]
    }
   ],
   "source": [
    "def average(array):\n",
    "    # your code goes here\n",
    "    set_arr = set(array)\n",
    "    return sum(set_arr)/len(set_arr)\n",
    "if __name__ == '__main__':\n",
    "    n = int(input())\n",
    "    arr = list(map(int, input().split()))\n",
    "    result = average(arr)\n",
    "    print(result)"
   ]
  },
  {
   "cell_type": "markdown",
   "id": "336b9962",
   "metadata": {},
   "source": [
    "## 2)No Idea! "
   ]
  },
  {
   "cell_type": "code",
   "execution_count": 2,
   "id": "7272277f",
   "metadata": {},
   "outputs": [
    {
     "name": "stdout",
     "output_type": "stream",
     "text": [
      "3 2\n",
      "1 5 3\n",
      "3 1\n",
      "5 7\n",
      "1\n"
     ]
    }
   ],
   "source": [
    "n,m = list(map(int, input().split()))\n",
    "arr, a, b = list(map(int, input().split())), set(map(int, input().split())), set(map(int, input().split()))\n",
    "\n",
    "x = set(arr) & a \n",
    "y = set(arr) & b\n",
    "c = 0\n",
    "for i in arr:\n",
    "    if i in x: \n",
    "        c += 1\n",
    "    elif i in y: \n",
    "        c -= 1\n",
    "\n",
    "print(c)"
   ]
  },
  {
   "cell_type": "markdown",
   "id": "7f01c19a",
   "metadata": {},
   "source": [
    "## 3)Symmetric Difference "
   ]
  },
  {
   "cell_type": "code",
   "execution_count": 3,
   "id": "8fa4023d",
   "metadata": {},
   "outputs": [
    {
     "name": "stdout",
     "output_type": "stream",
     "text": [
      "4\n",
      "2 4 5 9\n",
      "4\n",
      "2 4 11 12\n",
      "5\n",
      "9\n",
      "11\n",
      "12\n"
     ]
    }
   ],
   "source": [
    "# Read input values\n",
    "M = int(input())\n",
    "a = set(map(int, input().split()))\n",
    "N = int(input())\n",
    "b = set(map(int, input().split()))\n",
    "\n",
    "# Calculate symmetric difference\n",
    "sym_diff = a ^ b\n",
    "\n",
    "# Sort and print output\n",
    "for num in sorted(sym_diff):\n",
    "    print(num)\n"
   ]
  },
  {
   "cell_type": "markdown",
   "id": "1e36a4af",
   "metadata": {},
   "source": [
    "## 4)Set .add() "
   ]
  },
  {
   "cell_type": "code",
   "execution_count": 4,
   "id": "0713b8ab",
   "metadata": {},
   "outputs": [
    {
     "name": "stdout",
     "output_type": "stream",
     "text": [
      "7\n",
      "UK\n",
      "China\n",
      "USA\n",
      "France\n",
      "Newzealand\n",
      "UK\n",
      "France\n",
      "5\n"
     ]
    }
   ],
   "source": [
    "N = int(input())\n",
    "\n",
    "countries = set()\n",
    "\n",
    "for i in range(N):\n",
    "    countries.add(input())\n",
    "\n",
    "print(len(countries))\n",
    "# Set.Add() in Python - Hacker Rank Solution END\n"
   ]
  },
  {
   "cell_type": "markdown",
   "id": "00be20b3",
   "metadata": {},
   "source": [
    "## 5)Set .discard(), .remove() & .pop() "
   ]
  },
  {
   "cell_type": "code",
   "execution_count": 8,
   "id": "6bd75eaa",
   "metadata": {},
   "outputs": [
    {
     "name": "stdout",
     "output_type": "stream",
     "text": [
      "9\n",
      "1 2 3 4 5 6 7 8 9\n",
      "10\n",
      "pop\n",
      "remove 9\n",
      "discard 9\n",
      "discard 9\n",
      "discard 8\n",
      "remove 7\n",
      "pop\n",
      "discard 6\n",
      "remove 5\n",
      "pop \n",
      "4\n"
     ]
    }
   ],
   "source": [
    "n, s = int(input()), set(map(int, input().split()[::-1]))\n",
    "for _ in range(int(input())):\n",
    "    method, *args = input().split()\n",
    "    getattr(s, method)(*map(int, *args)) if args else getattr(s, method)()\n",
    "print(sum(s))\n"
   ]
  },
  {
   "cell_type": "markdown",
   "id": "126ccb7f",
   "metadata": {},
   "source": [
    "## 6)Set .union() Operation"
   ]
  },
  {
   "cell_type": "code",
   "execution_count": 9,
   "id": "606f0267",
   "metadata": {},
   "outputs": [
    {
     "name": "stdout",
     "output_type": "stream",
     "text": [
      "9\n",
      "1 2 3 4 5 6 7 8 9\n",
      "9\n",
      "10 1 2 3 11 21 55 6 8\n",
      "13\n"
     ]
    }
   ],
   "source": [
    "n1 = int(input())\n",
    "a = set(map(int,input().split()))\n",
    "n2 = int(input())\n",
    "b = set(map(int,input().split()))\n",
    "a.update(b)\n",
    "print(len(a))\n"
   ]
  },
  {
   "cell_type": "markdown",
   "id": "1ff4d578",
   "metadata": {},
   "source": [
    "## 7) Set .intersection() Operation"
   ]
  },
  {
   "cell_type": "code",
   "execution_count": 11,
   "id": "d858542b",
   "metadata": {},
   "outputs": [
    {
     "name": "stdout",
     "output_type": "stream",
     "text": [
      "9\n",
      "1 2 3 4 5 6 7 8 9\n",
      "9\n",
      "10 1 2 3 11 21 55 6 8\n",
      "5\n"
     ]
    }
   ],
   "source": [
    "n1=int(input())\n",
    "set1=set(map(int,input().split()))\n",
    "n2=int(input())\n",
    "set2=set(map(int,input().split()))\n",
    "print(len(set1.intersection(set2)))\n"
   ]
  },
  {
   "cell_type": "markdown",
   "id": "be6c420a",
   "metadata": {},
   "source": [
    "## 8)Set .difference() Operation "
   ]
  },
  {
   "cell_type": "code",
   "execution_count": 12,
   "id": "bc125eff",
   "metadata": {},
   "outputs": [
    {
     "name": "stdout",
     "output_type": "stream",
     "text": [
      "9\n",
      "1 2 3 4 5 6 7 8 9\n",
      "9\n",
      "10 1 2 3 11 21 55 6 8\n",
      "4\n"
     ]
    }
   ],
   "source": [
    "input()\n",
    "a = set(map(int, input().split()))\n",
    "input()\n",
    "b = set(map(int, input().split()))\n",
    "print(len(a-b))"
   ]
  },
  {
   "cell_type": "markdown",
   "id": "eb702b46",
   "metadata": {},
   "source": [
    "## 9)Set .symmetric_difference() Operation "
   ]
  },
  {
   "cell_type": "code",
   "execution_count": 13,
   "id": "fd68ae68",
   "metadata": {},
   "outputs": [
    {
     "name": "stdout",
     "output_type": "stream",
     "text": [
      "9\n",
      "1 2 3 4 5 6 7 8 9\n",
      "9\n",
      "10 1 2 3 11 21 55 6 8\n",
      "8\n"
     ]
    }
   ],
   "source": [
    "n1 = int(input())\n",
    "english = set(map(int,input().split()))\n",
    "n2 = int(input())\n",
    "french = set(map(int,input().split()))\n",
    "english1 =english.union(french)\n",
    "french1 = french.intersection(english)\n",
    "print(len(english1.difference(french1)))\n"
   ]
  },
  {
   "cell_type": "markdown",
   "id": "f00a9b1f",
   "metadata": {},
   "source": [
    "## 10)Set Mutations "
   ]
  },
  {
   "cell_type": "code",
   "execution_count": 14,
   "id": "bc233939",
   "metadata": {},
   "outputs": [
    {
     "name": "stdout",
     "output_type": "stream",
     "text": [
      "16\n",
      " 1 2 3 4 5 6 7 8 9 10 11 12 13 14 24 52\n",
      "4\n",
      "intersection_update 10\n",
      " 2 3 5 6 8 9 1 4 7 11\n",
      "update 2\n",
      " 55 66\n",
      "symmetric_difference_update 5\n",
      "22 7 35 62 58\n",
      " difference_update 7\n",
      "11 22 35 55 58 62 66\n",
      "38\n"
     ]
    }
   ],
   "source": [
    "input()\n",
    "a = set(map(int, input().split()))\n",
    "\n",
    "for _ in range(int(input())):\n",
    "    name, *_ = input().split()\n",
    "    getattr(a, name)(set(map(int, input().split())))\n",
    "\n",
    "print(sum(a))\n"
   ]
  },
  {
   "cell_type": "markdown",
   "id": "4b85fa82",
   "metadata": {},
   "source": [
    "## 11)The Captain's Room "
   ]
  },
  {
   "cell_type": "code",
   "execution_count": 15,
   "id": "4a778397",
   "metadata": {},
   "outputs": [
    {
     "name": "stdout",
     "output_type": "stream",
     "text": [
      "5\n",
      "1 2 3 6 5 4 4 2 5 3 6 1 6 5 3 2 4 1 2 5 1 4 3 6 8 4 3 1 5 6 2 \n",
      "8\n"
     ]
    }
   ],
   "source": [
    "input()\n",
    "seen_once, seen_again = set(), set()\n",
    "for element in input().split():\n",
    "    (seen_again if element in seen_once else seen_once).add(element)\n",
    "print((seen_once - seen_again).pop())\n"
   ]
  },
  {
   "cell_type": "markdown",
   "id": "c459ddb1",
   "metadata": {},
   "source": [
    "## 12)Check Subset "
   ]
  },
  {
   "cell_type": "code",
   "execution_count": 16,
   "id": "2515efc4",
   "metadata": {},
   "outputs": [
    {
     "name": "stdout",
     "output_type": "stream",
     "text": [
      "3\n",
      "5\n",
      "1 2 3 5 6\n",
      "9\n",
      "9 8 5 6 3 2 1 4 7\n",
      "True\n",
      "1\n",
      "2\n",
      "5\n",
      "3 6 5 4 1\n",
      "False\n",
      "7\n",
      "1 2 3 5 6 8 9\n",
      "3\n",
      "9 8 2\n",
      "False\n"
     ]
    }
   ],
   "source": [
    "t=int(input())\n",
    "for i in range(t):\n",
    "    l=[]\n",
    "    l1=[]\n",
    "    c=0\n",
    "    n1=int(input())\n",
    "    l=list(map(int,input().split()))\n",
    "    n2=int(input())\n",
    "    l1=list(map(int,input().split()))\n",
    "    for i in l:\n",
    "        if i in l1:\n",
    "            c=c+1\n",
    "    if c==len(l):\n",
    "        print(True)\n",
    "    else:\n",
    "        print(False)    \n"
   ]
  },
  {
   "cell_type": "markdown",
   "id": "f13c5729",
   "metadata": {},
   "source": [
    "## 13)Check Strict Superset "
   ]
  },
  {
   "cell_type": "code",
   "execution_count": 17,
   "id": "9dd24acf",
   "metadata": {},
   "outputs": [
    {
     "name": "stdout",
     "output_type": "stream",
     "text": [
      "1 2 3 4 5 6 7 8 9 10 11 12 23 45 84 78\n",
      "2\n",
      "1 2 3 4 5\n",
      "100 11 12\n",
      "False\n"
     ]
    }
   ],
   "source": [
    "a=list(map(int,input().split()))\n",
    "n=int(input())\n",
    "l1=[]\n",
    "p=0\n",
    "for i in range(n):\n",
    "    l=list(map(int,input().split()))\n",
    "    l1.append(l)\n",
    "for i in l1:\n",
    "    c=0\n",
    "    for j in i:\n",
    "        if (j in a) and len(a)>len(i):\n",
    "            c=c+1\n",
    "        if c==len(i):\n",
    "            p=p+1    \n",
    "if p==len(l1):\n",
    "    print(True)\n",
    "else:\n",
    "    print(False)     \n"
   ]
  },
  {
   "cell_type": "code",
   "execution_count": null,
   "id": "aeb41586",
   "metadata": {},
   "outputs": [],
   "source": []
  }
 ],
 "metadata": {
  "kernelspec": {
   "display_name": "Python 3 (ipykernel)",
   "language": "python",
   "name": "python3"
  },
  "language_info": {
   "codemirror_mode": {
    "name": "ipython",
    "version": 3
   },
   "file_extension": ".py",
   "mimetype": "text/x-python",
   "name": "python",
   "nbconvert_exporter": "python",
   "pygments_lexer": "ipython3",
   "version": "3.9.13"
  }
 },
 "nbformat": 4,
 "nbformat_minor": 5
}
