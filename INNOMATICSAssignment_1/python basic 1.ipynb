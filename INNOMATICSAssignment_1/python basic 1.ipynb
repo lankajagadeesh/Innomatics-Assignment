{
 "cells": [
  {
   "cell_type": "markdown",
   "id": "3830bdc6",
   "metadata": {},
   "source": [
    "# Basic Python Programming"
   ]
  },
  {
   "cell_type": "markdown",
   "id": "f28ccf2d",
   "metadata": {},
   "source": [
    "## 1) Say \"Hello, World!\" With Python"
   ]
  },
  {
   "cell_type": "code",
   "execution_count": 1,
   "id": "0dbb6ad4",
   "metadata": {},
   "outputs": [
    {
     "name": "stdout",
     "output_type": "stream",
     "text": [
      "Hello, World!\n"
     ]
    }
   ],
   "source": [
    "if __name__ == '__main__':\n",
    "    print('Hello, World!')\n"
   ]
  },
  {
   "cell_type": "markdown",
   "id": "030d586f",
   "metadata": {},
   "source": [
    "## 2)Python If-Else"
   ]
  },
  {
   "cell_type": "code",
   "execution_count": 2,
   "id": "faf174cb",
   "metadata": {},
   "outputs": [
    {
     "name": "stdout",
     "output_type": "stream",
     "text": [
      "7\n",
      "Weird\n"
     ]
    }
   ],
   "source": [
    "#!/bin/python3\n",
    "\n",
    "import math\n",
    "import os\n",
    "import random\n",
    "import re\n",
    "import sys\n",
    "\n",
    "\n",
    "\n",
    "if __name__ == '__main__':\n",
    "    n = int(input().strip())\n",
    "if (n % 2 != 0):\n",
    "    print('Weird')\n",
    "else: \n",
    "    if(n>= 2 and n<= 5):\n",
    "        print('Not Weird')\n",
    "    if(n>= 6 and n<=20):\n",
    "        print('Weird')\n",
    "    if(n> 20 ):\n",
    "        print('Not Weird')\n"
   ]
  },
  {
   "cell_type": "markdown",
   "id": "34254067",
   "metadata": {},
   "source": [
    "## 3)Arithmetic Operators"
   ]
  },
  {
   "cell_type": "code",
   "execution_count": 3,
   "id": "2eef5f03",
   "metadata": {},
   "outputs": [
    {
     "name": "stdout",
     "output_type": "stream",
     "text": [
      "3\n",
      "2\n",
      "5\n",
      "1\n",
      "6\n"
     ]
    }
   ],
   "source": [
    "if __name__ == '__main__':\n",
    "    a = int(input())\n",
    "    b = int(input())\n",
    "    print(a+b)\n",
    "    print(a-b)\n",
    "    print(a*b)\n"
   ]
  },
  {
   "cell_type": "markdown",
   "id": "f501bed1",
   "metadata": {},
   "source": [
    "## 4)Python: Division"
   ]
  },
  {
   "cell_type": "code",
   "execution_count": 4,
   "id": "6657fc00",
   "metadata": {},
   "outputs": [
    {
     "name": "stdout",
     "output_type": "stream",
     "text": [
      "4\n",
      "3\n",
      "1\n",
      "1.3333333333333333\n"
     ]
    }
   ],
   "source": [
    "if __name__ == '__main__':\n",
    "    a = int(input())\n",
    "    b = int(input())\n",
    "    print(a//b)\n",
    "    print(a/b)\n",
    "    \n"
   ]
  },
  {
   "cell_type": "markdown",
   "id": "e70d1423",
   "metadata": {},
   "source": [
    "## 5)Loops "
   ]
  },
  {
   "cell_type": "code",
   "execution_count": 10,
   "id": "3129c28c",
   "metadata": {},
   "outputs": [
    {
     "name": "stdout",
     "output_type": "stream",
     "text": [
      "5\n",
      "0\n",
      "1\n",
      "4\n",
      "9\n",
      "16\n"
     ]
    }
   ],
   "source": [
    "n = int(input())\n",
    "i = 0\n",
    "if n >= i:\n",
    "    for num in range(0 , n ):\n",
    "        print(num**2)"
   ]
  },
  {
   "cell_type": "markdown",
   "id": "c7379a17",
   "metadata": {},
   "source": [
    "## 6)Write a function"
   ]
  },
  {
   "cell_type": "code",
   "execution_count": 9,
   "id": "370133f8",
   "metadata": {},
   "outputs": [
    {
     "name": "stdout",
     "output_type": "stream",
     "text": [
      "1990\n",
      "False\n"
     ]
    }
   ],
   "source": [
    "def is_leap(year):\n",
    "    leap = False\n",
    "    \n",
    "    if year % 400 != 0 and year % 100 == 0:\n",
    "        leap = False\n",
    "    elif year % 4 == 0:\n",
    "        leap = True    \n",
    "    \n",
    "    return leap\n",
    "\n",
    "year = int(input())\n",
    "print(is_leap(year))"
   ]
  },
  {
   "cell_type": "markdown",
   "id": "4c708075",
   "metadata": {},
   "source": [
    "## 7) "
   ]
  }
 ],
 "metadata": {
  "kernelspec": {
   "display_name": "Python 3 (ipykernel)",
   "language": "python",
   "name": "python3"
  },
  "language_info": {
   "codemirror_mode": {
    "name": "ipython",
    "version": 3
   },
   "file_extension": ".py",
   "mimetype": "text/x-python",
   "name": "python",
   "nbconvert_exporter": "python",
   "pygments_lexer": "ipython3",
   "version": "3.9.13"
  }
 },
 "nbformat": 4,
 "nbformat_minor": 5
}
