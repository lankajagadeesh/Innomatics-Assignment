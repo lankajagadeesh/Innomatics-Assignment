{
 "cells": [
  {
   "cell_type": "markdown",
   "id": "dc0c5703",
   "metadata": {},
   "source": [
    "# RegEx"
   ]
  },
  {
   "cell_type": "markdown",
   "id": "877aaef5",
   "metadata": {},
   "source": [
    "## 1)Detect Floating Point Number "
   ]
  },
  {
   "cell_type": "code",
   "execution_count": 1,
   "id": "75007269",
   "metadata": {},
   "outputs": [
    {
     "name": "stdout",
     "output_type": "stream",
     "text": [
      "4\n",
      "4.0O0\n",
      "-1.00\n",
      "+4.54\n",
      "SomeRandomStuff\n",
      "False\n",
      "True\n",
      "True\n",
      "False\n"
     ]
    }
   ],
   "source": [
    "def main():\n",
    "    l = []\n",
    "    integer = int(input())\n",
    "    for i in range(integer):\n",
    "        n = input()\n",
    "        if n == 0:\n",
    "            l.append('False')\n",
    "        else:\n",
    "            try:\n",
    "                if float(n) and n != 0:\n",
    "                    l.append('True')\n",
    "                else:\n",
    "                    l.append('False')\n",
    "            except:\n",
    "                l.append('False')\n",
    "    print('\\n'.join(l))\n",
    "\n",
    "\n",
    "if __name__ == '__main__':\n",
    "    main()"
   ]
  },
  {
   "cell_type": "markdown",
   "id": "445a458b",
   "metadata": {},
   "source": [
    "## 2)Re.split() "
   ]
  },
  {
   "cell_type": "code",
   "execution_count": 3,
   "id": "a9fb70c1",
   "metadata": {},
   "outputs": [
    {
     "name": "stdout",
     "output_type": "stream",
     "text": [
      "100,000,000.000\n",
      "100\n",
      "000\n",
      "000\n",
      "000\n"
     ]
    }
   ],
   "source": [
    "regex_pattern = r'[,.]'    \n",
    "import re\n",
    "print(\"\\n\".join(re.split(regex_pattern, input())))"
   ]
  },
  {
   "cell_type": "markdown",
   "id": "af645a99",
   "metadata": {},
   "source": [
    "## 3)Group(), Groups() & Groupdict() "
   ]
  },
  {
   "cell_type": "code",
   "execution_count": 4,
   "id": "3f74cfcd",
   "metadata": {},
   "outputs": [
    {
     "name": "stdout",
     "output_type": "stream",
     "text": [
      "..12345678910111213141516171820212223\n",
      "1\n"
     ]
    }
   ],
   "source": [
    "import re\n",
    "char = input()\n",
    "pattern = r\"([a-zA-Z0-9])\\1+\"\n",
    "match = re.search(pattern,char)\n",
    "if match:\n",
    "    print(match.group(1))\n",
    "else:\n",
    "    print(-1)"
   ]
  },
  {
   "cell_type": "markdown",
   "id": "32750f42",
   "metadata": {},
   "source": [
    "## 4)Re.findall() & Re.finditer() "
   ]
  },
  {
   "cell_type": "code",
   "execution_count": 5,
   "id": "40cc60dd",
   "metadata": {},
   "outputs": [
    {
     "name": "stdout",
     "output_type": "stream",
     "text": [
      "rabcdeefgyYhFjkIoomnpOeorteeeeet\n",
      "ee\n",
      "Ioo\n",
      "Oeo\n",
      "eeeee\n"
     ]
    }
   ],
   "source": [
    "import re\n",
    "\n",
    "s = input()\n",
    "\n",
    "vowels = '[AEIOUaeiou]{2,}'\n",
    "consonant = '[QWRTYPSDFGHJKLZXCVBNMqwrtypsdfghjklzxcvbnm]'\n",
    "testpattern=re.compile(rf'(?<={consonant}){vowels}(?={consonant})')\n",
    "\n",
    "result = testpattern.findall(s)\n",
    "\n",
    "print(*result if len(result) > 0 else [-1], sep='\\n')\n"
   ]
  },
  {
   "cell_type": "markdown",
   "id": "580fd59b",
   "metadata": {},
   "source": [
    "## 5)Re.start() & Re.end() "
   ]
  },
  {
   "cell_type": "code",
   "execution_count": 6,
   "id": "65125a6e",
   "metadata": {},
   "outputs": [
    {
     "name": "stdout",
     "output_type": "stream",
     "text": [
      "aaadaa\n",
      "aa\n",
      "(0, 1)\n",
      "(1, 2)\n",
      "(4, 5)\n"
     ]
    }
   ],
   "source": [
    "import re\n",
    "\n",
    "n = input()\n",
    "m = input()\n",
    "temp_set = set()\n",
    "for i in range(0,len(n)):\n",
    "    ans = re.search(rf\"{m}\",n) #To search and extract the start and end point of the regular expression\n",
    "    if ans:\n",
    "        temp_set.add((ans.start(),ans.end() - 1)) #Adding the (start, end) value to the set\n",
    "        n = (\"*\"* (i+1)) + n[i+1:] # After updating changing the ith value of input string to \"*\"\n",
    "\n",
    "temp_set = sorted(temp_set,key= lambda i :i[1]) #Sort the set \n",
    "if temp_set:\n",
    "    for i in temp_set:\n",
    "        print(i)\n",
    "else:\n",
    "    print(\"(-1, -1)\")"
   ]
  },
  {
   "cell_type": "markdown",
   "id": "fb45857b",
   "metadata": {},
   "source": [
    "## 6)Regex Substitution "
   ]
  },
  {
   "cell_type": "code",
   "execution_count": 7,
   "id": "dd0a19cc",
   "metadata": {},
   "outputs": [
    {
     "name": "stdout",
     "output_type": "stream",
     "text": [
      "11\n",
      "a = 1;\n",
      "a = 1;\n",
      "b = input();\n",
      "b = input();\n",
      "if a + b > 0 && a - b < 0:\n",
      "if a + b > 0 and a - b < 0:\n",
      "start()\n",
      "start()\n",
      "elif a*b > 10 || a/b < 1:\n",
      "elif a*b > 10 or a/b < 1:\n",
      "elif a*b > 10 || a/b < 1:\n",
      "elif a*b > 10 or a/b < 1:\n",
      "print set(list(a)) | set(list(b)) \n",
      "print set(list(a)) | set(list(b)) \n",
      "#Note do not change &&& or ||| or & or |\n",
      "#Note do not change &&& or ||| or & or |\n",
      "#Only change those '&&' which have space on both sides.\n",
      "#Only change those '&&' which have space on both sides.\n",
      "#Only change those '|| which have space on both sides.\n",
      "#Only change those '|| which have space on both sides.\n",
      "\n",
      "\n"
     ]
    }
   ],
   "source": [
    "import re\n",
    "\n",
    "repl = lambda x: x.group().replace('&&', 'and').replace('||', 'or')\n",
    "for _ in range(int(input())):\n",
    "    print(re.sub(r'(?<= )\\&\\& |(?<= )\\|\\| ', repl, input()))\n"
   ]
  },
  {
   "cell_type": "markdown",
   "id": "b7f2493f",
   "metadata": {},
   "source": [
    "## 7)#Only change those '|| which have space on both sides. "
   ]
  },
  {
   "cell_type": "code",
   "execution_count": 8,
   "id": "ba6b73b8",
   "metadata": {},
   "outputs": [
    {
     "name": "stdout",
     "output_type": "stream",
     "text": [
      "CDXXI\n",
      "True\n"
     ]
    }
   ],
   "source": [
    "regex_pattern = r'^(M{0,3})(CM|CD|D?C{0,3})(XC|XL|L?X{0,3})(IX|IV|V?I{0,3})$'\n",
    "\n",
    "import re\n",
    "print(str(bool(re.match(regex_pattern, input()))))"
   ]
  },
  {
   "cell_type": "markdown",
   "id": "74f338a8",
   "metadata": {},
   "source": [
    "## 8)Validating phone numbers "
   ]
  },
  {
   "cell_type": "code",
   "execution_count": 9,
   "id": "419ce681",
   "metadata": {},
   "outputs": [
    {
     "name": "stdout",
     "output_type": "stream",
     "text": [
      "2\n",
      "9587456281\n",
      "YES\n",
      "1252478965\n",
      "NO\n"
     ]
    }
   ],
   "source": [
    "import re\n",
    "\n",
    "for _ in range(int(input())):\n",
    "    print('YES' if re.match(r'^[7-9]\\d{9}$', input()) else 'NO')\n"
   ]
  },
  {
   "cell_type": "markdown",
   "id": "a500ce57",
   "metadata": {},
   "source": [
    "## 9)Validating and Parsing Email Addresses "
   ]
  },
  {
   "cell_type": "code",
   "execution_count": 10,
   "id": "0881008c",
   "metadata": {},
   "outputs": [
    {
     "name": "stdout",
     "output_type": "stream",
     "text": [
      "2\n",
      "DEXTER <dexter@hotmail.com>\n",
      "DEXTER <dexter@hotmail.com>\n",
      "VIRUS <virus!@variable.:p>\n"
     ]
    }
   ],
   "source": [
    "import email.utils\n",
    "import re\n",
    "\n",
    "for _ in range(int(input())):\n",
    "    parser = email.utils.parseaddr(input())\n",
    "    email_pattern = r\"^[a-z][\\w\\-.]*@[a-z]+\\.[a-z]{1,3}$\"\n",
    "    match = re.search(email_pattern, parser[1], re.I)\n",
    "    if match:\n",
    "        print(email.utils.formataddr(parser))\n"
   ]
  },
  {
   "cell_type": "markdown",
   "id": "67324c15",
   "metadata": {},
   "source": [
    "## 10)Hex Color Code "
   ]
  },
  {
   "cell_type": "code",
   "execution_count": 11,
   "id": "522c0ba3",
   "metadata": {},
   "outputs": [
    {
     "name": "stdout",
     "output_type": "stream",
     "text": [
      "11\n",
      "#BED\n",
      "{\n",
      "    color: #FfFdF8; background-color:#aef;\n",
      "    color: #FfFdF8; background-color:#aef;\n",
      "    font-size: 123px;\n",
      "    background: -webkit-linear-gradient(top, #f9f9f9, #fff);\n",
      "}\n",
      "#Cab\n",
      "{\n",
      "    background-color: #ABC;\n",
      "    border: 2px dashed #fff;\n",
      "#FfFdF8\n",
      "#aef\n",
      "#FfFdF8\n",
      "#aef\n",
      "#f9f9f9\n",
      "#fff\n",
      "#ABC\n",
      "#fff\n"
     ]
    }
   ],
   "source": [
    "import re\n",
    "\n",
    "pattern = re.compile(r'#([0-9a-fA-F]{1,2}){3}')\n",
    "\n",
    "res = []\n",
    "for _ in range(int(input())):\n",
    "    s = input()\n",
    "    if s.endswith(';'):\n",
    "        res += [m.group(0) for m in re.finditer(pattern, s)]\n",
    "print(*res, sep='\\n')\n"
   ]
  },
  {
   "cell_type": "markdown",
   "id": "cfb9e136",
   "metadata": {},
   "source": [
    "## 11)HTML Parser - Part 1 "
   ]
  },
  {
   "cell_type": "code",
   "execution_count": 13,
   "id": "e57e0601",
   "metadata": {},
   "outputs": [
    {
     "name": "stdout",
     "output_type": "stream",
     "text": [
      "2\n",
      "<html><head><title>HTML Parser - I</title></head>\n",
      "Start : html\n",
      "Start : head\n",
      "Start : title\n",
      "End   : title\n",
      "End   : head\n",
      "<body data-modal-target class='1'><h1>HackerRank</h1><br /></body></html>\n",
      "Start : body\n",
      "-> data-modal-target > None\n",
      "-> class > 1\n",
      "Start : h1\n",
      "End   : h1\n",
      "Empty : br\n",
      "End   : body\n",
      "End   : html\n"
     ]
    }
   ],
   "source": [
    "from html.parser import HTMLParser\n",
    "\n",
    "class MyParser(HTMLParser):\n",
    "    def print(self, action, tag, attrs=()):\n",
    "        print(f\"{action:5} : {tag}\")\n",
    "        for name, value in attrs:\n",
    "            print(f\"-> {name} > {value}\")\n",
    "        \n",
    "    def handle_starttag(self, tag, attrs):\n",
    "        self.print(\"Start\", tag, attrs)\n",
    "\n",
    "    def handle_endtag(self, tag):\n",
    "        self.print(\"End\", tag)\n",
    "\n",
    "    def handle_startendtag(self, tag, attrs):\n",
    "        self.print(\"Empty\", tag, attrs)\n",
    "\n",
    "parser = MyParser()\n",
    "for _ in range(int(input())):\n",
    "    parser.feed(input())\n"
   ]
  },
  {
   "cell_type": "markdown",
   "id": "a24ec6ef",
   "metadata": {},
   "source": [
    "## 12)HTML Parser - Part 2 "
   ]
  },
  {
   "cell_type": "code",
   "execution_count": 15,
   "id": "bf022acb",
   "metadata": {},
   "outputs": [
    {
     "name": "stdout",
     "output_type": "stream",
     "text": [
      "4\n",
      "<!--[if IE 9]>IE9-specific content\n",
      "<![endif]-->\n",
      "<div> Welcome to HackerRank</div>\n",
      "<div> Welcome to HackerRank</div>\n",
      ">>> Multi-line Comment\n",
      "[if IE 9]>IE9-specific content\n",
      "<![endif]\n",
      ">>> Data\n",
      " Welcome to HackerRank\n",
      ">>> Data\n",
      " Welcome to HackerRank\n"
     ]
    }
   ],
   "source": [
    "from html.parser import HTMLParser\n",
    "\n",
    "class MyHTMLParser(HTMLParser):\n",
    "    def handle_comment(self, data):\n",
    "        data = str(data).split('\\n')\n",
    "        if len(data)>1:\n",
    "            print('>>> Multi-line Comment', *data, sep='\\n')\n",
    "        else:\n",
    "            print('>>> Single-line Comment', data[0], sep='\\n')            \n",
    "    def handle_data(self, data):\n",
    "        data = str(data).replace('\\n', '')\n",
    "        if len(data)>0:\n",
    "            print('>>> Data', data, sep='\\n')\n",
    "\n",
    "html = \"\"       \n",
    "for _ in range(int(input())):\n",
    "    html += input().rstrip()\n",
    "    html += '\\n'\n",
    "    \n",
    "parser = MyHTMLParser()\n",
    "parser.feed(html)\n",
    "parser.close()"
   ]
  },
  {
   "cell_type": "markdown",
   "id": "87fe5441",
   "metadata": {},
   "source": [
    "## 13)Detect HTML Tags, Attributes and Attribute Values "
   ]
  },
  {
   "cell_type": "code",
   "execution_count": 16,
   "id": "76b918a0",
   "metadata": {},
   "outputs": [
    {
     "name": "stdout",
     "output_type": "stream",
     "text": [
      "9\n",
      "<head>\n",
      "<title>HTML</title>\n",
      "</head>\n",
      "<object type=\"application/x-flash\" \n",
      "  data=\"your-file.swf\" \n",
      "  width=\"0\" height=\"0\">\n",
      "  <!-- <param name=\"movie\" value=\"your-file.swf\" /> -->\n",
      "  <param name=\"quality\" value=\"high\"/>\n",
      "</object>\n",
      "head\n",
      "title\n",
      "object\n",
      "-> type > application/x-flash\n",
      "-> data > your-file.swf\n",
      "-> width > 0\n",
      "-> height > 0\n",
      "param\n",
      "-> name > quality\n",
      "-> value > high\n"
     ]
    }
   ],
   "source": [
    "from html.parser import HTMLParser\n",
    "\n",
    "class MyHTMLParser(HTMLParser):\n",
    "    def handle_starttag(self, tag, attrs):\n",
    "        print(tag, *('-> {0} > {1}'.format(*attr) for attr in attrs), sep='\\n')\n",
    "\n",
    "MyHTMLParser().feed(''.join([input() for _ in range(int(input()))]))\n"
   ]
  },
  {
   "cell_type": "markdown",
   "id": "1ccd07ea",
   "metadata": {},
   "source": [
    "## 14)Validating UID "
   ]
  },
  {
   "cell_type": "code",
   "execution_count": 17,
   "id": "67f78d62",
   "metadata": {},
   "outputs": [
    {
     "name": "stdout",
     "output_type": "stream",
     "text": [
      "2\n",
      "B1CD102354\n",
      "Invalid\n",
      "B1CDEF2354\n",
      "Valid\n"
     ]
    }
   ],
   "source": [
    "import re\n",
    "\n",
    "def is_valid_uid(uid):\n",
    "    return all([\n",
    "        re.search(r'[A-Z].*[A-Z]', uid),\n",
    "        re.search(r'\\d.*\\d.*\\d', uid),\n",
    "        not re.search(r'\\W', uid),\n",
    "        len(set(uid)) == 10,\n",
    "        len(uid) == 10\n",
    "    ])\n",
    "\n",
    "t = int(input().strip())\n",
    "\n",
    "for i in range(t):\n",
    "    uid = input().strip()\n",
    "    if is_valid_uid(uid):\n",
    "        print(\"Valid\")\n",
    "    else:\n",
    "        print(\"Invalid\")\n"
   ]
  },
  {
   "cell_type": "markdown",
   "id": "9e8fb346",
   "metadata": {},
   "source": [
    "## 15)Validating Credit Card Numbers "
   ]
  },
  {
   "cell_type": "code",
   "execution_count": 18,
   "id": "97b625f0",
   "metadata": {},
   "outputs": [
    {
     "name": "stdout",
     "output_type": "stream",
     "text": [
      "6\n",
      "4123456789123456\n",
      "Valid\n",
      "5123-4567-8912-3456\n",
      "Valid\n",
      "5123-4567-8912-3456\n",
      "Valid\n",
      "61234-567-8912-3456\n",
      "Invalid\n",
      "4123356789123456\n",
      "Valid\n",
      "5133-3367-8912-3456\n",
      "Invalid\n"
     ]
    }
   ],
   "source": [
    "import re\n",
    "pattern_a = r'([\\d])\\1{1}-?\\1{2}'\n",
    "pattern_b = r'^[456]\\d{3}-?\\d{4}-?\\d{4}-?\\d{4}-?'\n",
    "n = int(input())\n",
    "for i in range(n):\n",
    "    string = input()\n",
    "    if not bool(re.fullmatch(pattern_b,string)):\n",
    "        print ('Invalid')\n",
    "    elif bool(re.search(pattern_a, string)):\n",
    "        print ('Invalid')\n",
    "    else:\n",
    "        print ('Valid')\n"
   ]
  },
  {
   "cell_type": "markdown",
   "id": "095a90e1",
   "metadata": {},
   "source": [
    "## 16)Validating Postal Codes "
   ]
  },
  {
   "cell_type": "code",
   "execution_count": 19,
   "id": "53d4c479",
   "metadata": {},
   "outputs": [
    {
     "name": "stdout",
     "output_type": "stream",
     "text": [
      "110000\n",
      "False\n"
     ]
    }
   ],
   "source": [
    "regex_integer_in_range = r\"_________\"\t# Do not delete 'r'.\n",
    "regex_alternating_repetitive_digit_pair = r\"_________\"\t# Do not delete 'r'.\n",
    "\n",
    "\n",
    "import re\n",
    "P = input()\n",
    "\n",
    "print (bool(re.match(regex_integer_in_range, P)) \n",
    "and len(re.findall(regex_alternating_repetitive_digit_pair, P)) < 2)"
   ]
  },
  {
   "cell_type": "markdown",
   "id": "fd8b0f4a",
   "metadata": {},
   "source": [
    "## 17)Matrix Script "
   ]
  },
  {
   "cell_type": "code",
   "execution_count": 1,
   "id": "765abc2c",
   "metadata": {},
   "outputs": [
    {
     "name": "stdout",
     "output_type": "stream",
     "text": [
      "7 3\n",
      "Tsi\n",
      "h%x\n",
      "i #\n",
      "sM\n",
      "$a \n",
      "#t%\n",
      "ir!\n"
     ]
    }
   ],
   "source": [
    "import math\n",
    "import os\n",
    "import random\n",
    "import re\n",
    "import sys\n",
    "\n",
    "\n",
    "\n",
    "\n",
    "first_multiple_input = input().rstrip().split()\n",
    "\n",
    "n = int(first_multiple_input[0])\n",
    "\n",
    "m = int(first_multiple_input[1])\n",
    "\n",
    "matrix = []\n",
    "\n",
    "for _ in range(n):\n",
    "    matrix_item = input()\n",
    "    matrix.append(matrix_item)\n"
   ]
  },
  {
   "cell_type": "code",
   "execution_count": null,
   "id": "c3210dd2",
   "metadata": {},
   "outputs": [],
   "source": []
  }
 ],
 "metadata": {
  "kernelspec": {
   "display_name": "Python 3 (ipykernel)",
   "language": "python",
   "name": "python3"
  },
  "language_info": {
   "codemirror_mode": {
    "name": "ipython",
    "version": 3
   },
   "file_extension": ".py",
   "mimetype": "text/x-python",
   "name": "python",
   "nbconvert_exporter": "python",
   "pygments_lexer": "ipython3",
   "version": "3.9.13"
  }
 },
 "nbformat": 4,
 "nbformat_minor": 5
}
